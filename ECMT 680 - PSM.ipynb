{
 "cells": [
  {
   "cell_type": "code",
   "execution_count": 3,
   "metadata": {},
   "outputs": [
    {
     "ename": "SyntaxError",
     "evalue": "invalid syntax (2442739150.py, line 1)",
     "output_type": "error",
     "traceback": [
      "\u001b[0;36m  Cell \u001b[0;32mIn[3], line 1\u001b[0;36m\u001b[0m\n\u001b[0;31m    import %pip install pandas\u001b[0m\n\u001b[0m           ^\u001b[0m\n\u001b[0;31mSyntaxError\u001b[0m\u001b[0;31m:\u001b[0m invalid syntax\n"
     ]
    }
   ],
   "source": [
    "pandas as pd\n",
    "\n",
    "# Assuming the dataset is in Stata format as mentioned (.dta)\n",
    "data_path = 'path/to/data_all_waves.dta'\n",
    "data = pd.read_stata(data_path)\n",
    "\n",
    "# Example preprocessing steps\n",
    "# Adjust this according to specific requirements mentioned in the paper\n",
    "data.dropna(inplace=True)  # Removing missing values\n",
    "\n",
    "from statsmodels.genmod.generalized_linear_model import GLM\n",
    "from statsmodels.genmod.families import Binomial\n",
    "from statsmodels.genmod.families.links import logit\n",
    "\n",
    "# Define the model for calculating propensity scores\n",
    "model = GLM(data['Outcome_Variable'], data[['Independent_Variables']], family=Binomial(link=logit))\n",
    "result = model.fit()\n",
    "\n",
    "data['Propensity_Score'] = result.predict(data[['Independent_Variables']])\n",
    "\n",
    "from causalinference import CausalModel\n",
    "\n",
    "# Create a causal model\n",
    "causal = CausalModel(\n",
    "    Y=data['Outcome_Variable'].values, \n",
    "    D=data['Treatment_Variable'].values, \n",
    "    X=data['Propensity_Score'].values\n",
    ")\n",
    "\n",
    "causal.est_via_matching(bias_adj=True)\n",
    "\n",
    "import matplotlib.pyplot as plt\n",
    "import seaborn as sns\n",
    "\n",
    "# Example visualization - Adjust according to the paper's figures\n",
    "sns.scatterplot(x='Independent_Variable', y='Dependent_Variable', data=data)\n",
    "plt.show()\n"
   ]
  }
 ],
 "metadata": {
  "kernelspec": {
   "display_name": ".venv",
   "language": "python",
   "name": "python3"
  },
  "language_info": {
   "codemirror_mode": {
    "name": "ipython",
    "version": 3
   },
   "file_extension": ".py",
   "mimetype": "text/x-python",
   "name": "python",
   "nbconvert_exporter": "python",
   "pygments_lexer": "ipython3",
   "version": "3.9.6"
  }
 },
 "nbformat": 4,
 "nbformat_minor": 2
}
